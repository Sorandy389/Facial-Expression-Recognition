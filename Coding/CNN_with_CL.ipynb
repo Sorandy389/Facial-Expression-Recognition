{
 "cells": [
  {
   "cell_type": "markdown",
   "metadata": {},
   "source": [
    "## Parameters"
   ]
  },
  {
   "cell_type": "code",
   "execution_count": 1,
   "metadata": {
    "ExecuteTime": {
     "end_time": "2017-04-23T12:58:05.100181",
     "start_time": "2017-04-23T12:58:05.098147"
    }
   },
   "outputs": [],
   "source": [
    "LAMBDA = 0.5\n",
    "CENTER_LOSS_ALPHA = 0.5\n",
    "NUM_CLASSES = 7"
   ]
  },
  {
   "cell_type": "markdown",
   "metadata": {},
   "source": [
    "## Import modules"
   ]
  },
  {
   "cell_type": "code",
   "execution_count": 2,
   "metadata": {
    "ExecuteTime": {
     "end_time": "2017-04-23T12:58:06.723861",
     "start_time": "2017-04-23T12:58:05.101724"
    }
   },
   "outputs": [
    {
     "name": "stdout",
     "output_type": "stream",
     "text": [
      "WARNING:tensorflow:From c:\\users\\38953\\appdata\\local\\programs\\python\\python37\\lib\\site-packages\\tensorflow\\python\\compat\\v2_compat.py:96: disable_resource_variables (from tensorflow.python.ops.variable_scope) is deprecated and will be removed in a future version.\n",
      "Instructions for updating:\n",
      "non-resource variables are not supported in the long term\n",
      "curses is not supported on this machine (please install/reinstall curses for an optimal experience)\n"
     ]
    }
   ],
   "source": [
    "import tensorflow.compat.v1 as tf\n",
    "import tf_slim as slim\n",
    "import tflearn\n",
    "import os, os.path\n",
    "import pandas as pd\n",
    "import time\n",
    "import numpy as np\n",
    "from numpy import ndarray\n",
    "import skimage\n",
    "from skimage import data, io, filters, transform, exposure\n",
    "import random\n",
    "from sklearn.utils import shuffle\n",
    "\n",
    "os.environ['CUDA_VISIBLE_DEVICES'] = '0'\n",
    "tf.reset_default_graph()\n",
    "tf.compat.v1.disable_eager_execution()"
   ]
  },
  {
   "cell_type": "markdown",
   "metadata": {},
   "source": [
    "## Construct network"
   ]
  },
  {
   "cell_type": "code",
   "execution_count": 3,
   "metadata": {
    "ExecuteTime": {
     "end_time": "2017-04-23T12:58:06.729925",
     "start_time": "2017-04-23T12:58:06.724981"
    }
   },
   "outputs": [],
   "source": [
    "with tf.name_scope('input'):\n",
    "    input_images = tf.placeholder(tf.float32, shape=(None,48,48,1), name='input_images')\n",
    "    labels = tf.placeholder(tf.int64, shape=(None), name='labels')\n",
    "    \n",
    "global_step = tf.Variable(0, trainable=False, name='global_step')"
   ]
  },
  {
   "cell_type": "code",
   "execution_count": 4,
   "metadata": {
    "ExecuteTime": {
     "end_time": "2017-04-23T12:58:06.803814",
     "start_time": "2017-04-23T12:58:06.730853"
    },
    "code_folding": []
   },
   "outputs": [],
   "source": [
    "def get_center_loss(features, labels, alpha, num_classes):\n",
    "    # Obtain feature number\n",
    "    len_features = features.get_shape()[1]\n",
    "    # Set a valiable to store all the samples\n",
    "    centers = tf.get_variable('centers', [num_classes, len_features], dtype=tf.float32,\n",
    "        initializer=tf.constant_initializer(0), trainable=False)\n",
    "    # fallen the label\n",
    "    labels = tf.reshape(labels, [-1])\n",
    "    \n",
    "    # calculate the center of mini-batch\n",
    "    centers_batch = tf.gather(centers, labels)\n",
    "    # calculate the loss\n",
    "    loss = tf.nn.l2_loss(features - centers_batch)\n",
    "    \n",
    "    # the difference between the features and the center\n",
    "    diff = centers_batch - features\n",
    "    \n",
    "    # count the frequency of samples in each category\n",
    "    unique_label, unique_idx, unique_count = tf.unique_with_counts(labels)\n",
    "    appear_times = tf.gather(unique_count, unique_idx)\n",
    "    appear_times = tf.reshape(appear_times, [-1, 1])\n",
    "    \n",
    "    diff = diff / tf.cast((1 + appear_times), tf.float32)\n",
    "    diff = alpha * diff\n",
    "    \n",
    "    centers_update_op = tf.scatter_sub(centers, labels, diff)\n",
    "    \n",
    "    return loss, centers, centers_update_op"
   ]
  },
  {
   "cell_type": "code",
   "execution_count": 5,
   "metadata": {
    "ExecuteTime": {
     "end_time": "2017-04-23T12:58:06.909774",
     "start_time": "2017-04-23T12:58:06.804749"
    },
    "code_folding": []
   },
   "outputs": [],
   "source": [
    "def inference(input_images):\n",
    "    with slim.arg_scope([slim.conv2d], kernel_size=5, padding='SAME'):\n",
    "        with slim.arg_scope([slim.max_pool2d], kernel_size=2):\n",
    "            \n",
    "            x = slim.conv2d(input_images, num_outputs=32, scope='conv1_1')\n",
    "            x = slim.conv2d(x, num_outputs=32, scope='conv1_2')\n",
    "            x = slim.max_pool2d(x, scope='pool1')\n",
    "     \n",
    "            x = slim.conv2d(x, num_outputs=64, scope='conv2_1')\n",
    "            x = slim.conv2d(x, num_outputs=64, scope='conv2_2')\n",
    "            x = slim.max_pool2d(x, scope='pool2')\n",
    "            \n",
    "            x = slim.flatten(x, scope='flatten')\n",
    "            \n",
    "            feature = slim.fully_connected(x, num_outputs=2, activation_fn=None, scope='fc1')\n",
    "            \n",
    "            x = tflearn.prelu(feature)\n",
    "\n",
    "            x = slim.fully_connected(x, num_outputs=7, activation_fn=None, scope='fc2')\n",
    "    \n",
    "    return x, feature"
   ]
  },
  {
   "cell_type": "code",
   "execution_count": 6,
   "metadata": {
    "ExecuteTime": {
     "end_time": "2017-04-23T12:58:07.002232",
     "start_time": "2017-04-23T12:58:06.911010"
    },
    "code_folding": []
   },
   "outputs": [],
   "source": [
    "# If you want to modify the usage of center_loss\n",
    "# Please comment or uncomment the \"total_loss\" line's part \"+ ratio * center_loss\"\n",
    "\n",
    "def build_network(input_images, labels, ratio=0.5):\n",
    "    logits, features = inference(input_images)\n",
    "    \n",
    "    with tf.name_scope('loss'):\n",
    "        with tf.name_scope('center_loss'):\n",
    "            center_loss, centers, centers_update_op = get_center_loss(features, labels, CENTER_LOSS_ALPHA, NUM_CLASSES)\n",
    "        with tf.name_scope('softmax_loss'):\n",
    "            softmax_loss = tf.reduce_mean(tf.nn.sparse_softmax_cross_entropy_with_logits(labels=labels, logits=logits))\n",
    "        with tf.name_scope('total_loss'):\n",
    "            total_loss = softmax_loss# + ratio * center_loss\n",
    "    \n",
    "    with tf.name_scope('acc'):\n",
    "        accuracy = tf.reduce_mean(tf.cast(tf.equal(tf.arg_max(logits, 1), labels), tf.float32))\n",
    "    \n",
    "    with tf.name_scope('loss/'):\n",
    "        tf.summary.scalar('CenterLoss', center_loss)\n",
    "        tf.summary.scalar('SoftmaxLoss', softmax_loss)\n",
    "        tf.summary.scalar('TotalLoss', total_loss)\n",
    "        \n",
    "    return logits, features, total_loss, accuracy, centers_update_op"
   ]
  },
  {
   "cell_type": "code",
   "execution_count": 7,
   "metadata": {
    "ExecuteTime": {
     "end_time": "2017-04-23T12:58:07.300662",
     "start_time": "2017-04-23T12:58:07.004232"
    }
   },
   "outputs": [
    {
     "name": "stderr",
     "output_type": "stream",
     "text": [
      "c:\\users\\38953\\appdata\\local\\programs\\python\\python37\\lib\\site-packages\\tensorflow\\python\\keras\\engine\\base_layer_v1.py:1692: UserWarning: `layer.apply` is deprecated and will be removed in a future version. Please use `layer.__call__` method instead.\n",
      "  warnings.warn('`layer.apply` is deprecated and '\n",
      "c:\\users\\38953\\appdata\\local\\programs\\python\\python37\\lib\\site-packages\\tensorflow\\python\\keras\\legacy_tf_layers\\core.py:329: UserWarning: `tf.layers.flatten` is deprecated and will be removed in a future version. Please use `tf.keras.layers.Flatten` instead.\n",
      "  warnings.warn('`tf.layers.flatten` is deprecated and '\n"
     ]
    }
   ],
   "source": [
    "logits, features, total_loss, accuracy, centers_update_op = build_network(input_images, labels, ratio=LAMBDA)"
   ]
  },
  {
   "cell_type": "markdown",
   "metadata": {},
   "source": [
    "## Prepare data"
   ]
  },
  {
   "cell_type": "code",
   "execution_count": 8,
   "metadata": {
    "ExecuteTime": {
     "end_time": "2017-04-23T12:58:07.630486",
     "start_time": "2017-04-23T12:58:07.301877"
    }
   },
   "outputs": [],
   "source": [
    "####################################### DATA PREPROCESSING - Labeling ################################################\n",
    "'''\n",
    "This function traverses throwe ach directory of training images\n",
    "Two lists are made:\n",
    "    - The RGB image values are added to the images list\n",
    "    - For every photo in say the 'angry' directory of images, a \n",
    "      corresponding label is added to the label list\n",
    "\n",
    "'''\n",
    "class DataLoader():\n",
    "    def __init__(self, TRAINING_DIR, TESTING_DIR):\n",
    "        self._index_in_epoch = 0 \n",
    "        self._epochs_completed = 0 \n",
    "    \n",
    "        self.train_data = []\n",
    "        self.train_label = []\n",
    "        self.num_train_data = 0\n",
    "        self.test_data = []\n",
    "        self.test_label = []\n",
    "        self.num_test_data = 0\n",
    "        directories = [d for d in os.listdir(TRAINING_DIR) \n",
    "                    if os.path.isdir(os.path.join(TRAINING_DIR, d))]\n",
    "        # training data set and labels\n",
    "        for d in directories:\n",
    "            label_directory = os.path.join(TRAINING_DIR, d)\n",
    "            file_names = [os.path.join(label_directory, f) \n",
    "                            for f in os.listdir(label_directory) \n",
    "                              if f.endswith(\".png\")]\n",
    "            \n",
    "            for f in file_names:\n",
    "                self.train_data.append(io.imread(f))\n",
    "                self.train_label.append(int(d))\n",
    "        self.train_data = np.array(self.train_data)\n",
    "        self.train_label = np.array(self.train_label)\n",
    "        self.train_data, self.train_label = shuffle(self.train_data, self.train_label)\n",
    "        self.train_data = np.expand_dims(self.train_data.astype(np.float32)/255.0,axis=-1)\n",
    "        self.train_label = self.train_label.astype(np.float32)\n",
    "        self.num_train_data = len(self.train_data)\n",
    "        \n",
    "        # test data set and labels        \n",
    "        directories = [d for d in os.listdir(TESTING_DIR) \n",
    "                    if os.path.isdir(os.path.join(TESTING_DIR, d))]\n",
    "\n",
    "        for d in directories:\n",
    "            label_directory = os.path.join(TESTING_DIR, d)\n",
    "            file_names = [os.path.join(label_directory, f) \n",
    "                            for f in os.listdir(label_directory) \n",
    "                              if f.endswith(\".png\")]\n",
    "            \n",
    "            for f in file_names:\n",
    "                self.test_data.append(io.imread(f))\n",
    "                self.test_label.append(int(d))\n",
    "        self.test_data = np.array(self.test_data)\n",
    "        self.test_label = np.array(self.test_label)\n",
    "        self.test_data, self.test_label = shuffle(self.test_data, self.test_label)\n",
    "        self.test_data = np.expand_dims(self.test_data.astype(np.float32)/255.0,axis=-1)\n",
    "        self.test_label = self.test_label.astype(np.float32)\n",
    "        self.num_test_data = len(self.test_data)\n",
    "\n",
    "    def get_batch(self, batch_size):\n",
    "        index = np.random.randint(0, np.shape(self.train_data)[0],batch_size)\n",
    "        return self.train_data[index][:], self.train_label[index]\n",
    "    \n",
    "    def next_batch(self, batch_size): \n",
    "        start = self._index_in_epoch \n",
    "        if ((start == 0) and (self._epochs_completed == 0)): \n",
    "            self.train_data, self.train_label = shuffle(self.train_data, self.train_label)\n",
    "\n",
    "        # go to the next batch \n",
    "        if (start + batch_size > self.num_train_data): \n",
    "            self._epochs_completed += 1 \n",
    "            rest_num_examples = self.num_train_data - start \n",
    "            data_rest_part = self.train_data[start:self.num_train_data] \n",
    "            label_rest_part = self.train_label[start:self.num_train_data]\n",
    "            self.train_data, self.train_label = shuffle(self.train_data, self.train_label)\n",
    "\n",
    "            start = 0 \n",
    "            self._index_in_epoch = batch_size - rest_num_examples #avoid the case where the #sample != integar times of batch_size \n",
    "            end = self._index_in_epoch \n",
    "            data_new_part = self.train_data[start:end] \n",
    "            label_new_part = self.train_label[start:end]\n",
    "            return np.concatenate((data_rest_part, data_new_part), axis=0), np.concatenate((label_rest_part, label_new_part), axis=0)\n",
    "        else: \n",
    "            self._index_in_epoch += batch_size \n",
    "            end = self._index_in_epoch \n",
    "            return self.train_data[start:end], self.train_label[start:end]\n",
    "\n",
    "TRAINING_DIR = './data/train'\n",
    "TESTING_DIR = './data/test'\n",
    "data_loader = DataLoader(TRAINING_DIR, TESTING_DIR)"
   ]
  },
  {
   "cell_type": "markdown",
   "metadata": {},
   "source": [
    "## Optimizer"
   ]
  },
  {
   "cell_type": "code",
   "execution_count": 9,
   "metadata": {
    "ExecuteTime": {
     "end_time": "2017-04-23T12:58:07.633505",
     "start_time": "2017-04-23T12:58:07.631587"
    }
   },
   "outputs": [],
   "source": [
    "optimizer = tf.train.AdamOptimizer(0.001)"
   ]
  },
  {
   "cell_type": "code",
   "execution_count": 10,
   "metadata": {
    "ExecuteTime": {
     "end_time": "2017-04-23T12:58:07.926784",
     "start_time": "2017-04-23T12:58:07.634493"
    }
   },
   "outputs": [],
   "source": [
    "with tf.control_dependencies([centers_update_op]):\n",
    "    train_op = optimizer.minimize(total_loss, global_step=global_step)"
   ]
  },
  {
   "cell_type": "markdown",
   "metadata": {},
   "source": [
    "## Session and Summary"
   ]
  },
  {
   "cell_type": "code",
   "execution_count": 11,
   "metadata": {
    "ExecuteTime": {
     "end_time": "2017-04-23T12:58:07.929944",
     "start_time": "2017-04-23T12:58:07.927740"
    }
   },
   "outputs": [],
   "source": [
    "summary_op = tf.summary.merge_all()"
   ]
  },
  {
   "cell_type": "code",
   "execution_count": 12,
   "metadata": {
    "ExecuteTime": {
     "end_time": "2017-04-23T12:58:10.050499",
     "start_time": "2017-04-23T12:58:07.930866"
    }
   },
   "outputs": [],
   "source": [
    "sess = tf.Session()\n",
    "sess.run(tf.global_variables_initializer())\n",
    "writer = tf.summary.FileWriter('./mnist_log', sess.graph)"
   ]
  },
  {
   "cell_type": "markdown",
   "metadata": {},
   "source": [
    "## Train and Test"
   ]
  },
  {
   "cell_type": "code",
   "execution_count": 13,
   "metadata": {
    "ExecuteTime": {
     "end_time": "2017-04-23T12:58:10.071755",
     "start_time": "2017-04-23T12:58:10.051998"
    }
   },
   "outputs": [],
   "source": [
    "mean_data = np.mean(data_loader.train_data, axis=0)"
   ]
  },
  {
   "cell_type": "code",
   "execution_count": 14,
   "metadata": {
    "ExecuteTime": {
     "end_time": "2017-04-23T12:59:49.036352",
     "start_time": "2017-04-23T12:58:10.073172"
    },
    "scrolled": true
   },
   "outputs": [
    {
     "name": "stdout",
     "output_type": "stream",
     "text": [
      "step: 100, train_acc:0.6719, test_acc:0.4286\n",
      "step: 200, train_acc:0.7891, test_acc:0.5714\n",
      "step: 300, train_acc:0.9688, test_acc:0.8000\n",
      "step: 400, train_acc:0.9844, test_acc:0.8714\n",
      "step: 500, train_acc:0.9922, test_acc:0.9714\n",
      "step: 600, train_acc:1.0000, test_acc:0.9429\n",
      "step: 700, train_acc:1.0000, test_acc:0.9714\n",
      "step: 800, train_acc:1.0000, test_acc:0.9714\n",
      "step: 900, train_acc:1.0000, test_acc:0.9714\n",
      "step: 1000, train_acc:1.0000, test_acc:0.9857\n"
     ]
    }
   ],
   "source": [
    "step = sess.run(global_step)\n",
    "while step <= 1000:\n",
    "    batch_images, batch_labels = data_loader.next_batch(128)\n",
    "    _, summary_str, train_acc = sess.run(\n",
    "        [train_op, summary_op, accuracy],\n",
    "        feed_dict={\n",
    "            input_images: batch_images - mean_data,\n",
    "            labels: batch_labels,\n",
    "        })\n",
    "    step += 1\n",
    "    \n",
    "    writer.add_summary(summary_str, global_step=step)\n",
    "    \n",
    "    if step % 100 == 0:\n",
    "        test_acc = sess.run(\n",
    "            accuracy,\n",
    "            feed_dict={\n",
    "                input_images: data_loader.test_data - mean_data,\n",
    "                labels: data_loader.test_label,\n",
    "            })\n",
    "        print((\"step: {}, train_acc:{:.4f}, test_acc:{:.4f}\".\n",
    "              format(step, train_acc, test_acc)))"
   ]
  },
  {
   "cell_type": "markdown",
   "metadata": {},
   "source": [
    "### Visualize train_data"
   ]
  },
  {
   "cell_type": "code",
   "execution_count": 15,
   "metadata": {
    "ExecuteTime": {
     "end_time": "2017-04-23T12:59:50.504392",
     "start_time": "2017-04-23T12:59:49.038455"
    }
   },
   "outputs": [
    {
     "data": {
      "image/png": "[encoded data removed]",
      "text/plain": [
       "<Figure size 1152x648 with 1 Axes>"
      ]
     },
     "metadata": {
      "needs_background": "light"
     },
     "output_type": "display_data"
    }
   ],
   "source": [
    "feat = sess.run(features, feed_dict={input_images:data_loader.train_data[:data_loader.num_train_data]-mean_data})\n",
    "\n",
    "%matplotlib inline\n",
    "import matplotlib.pyplot as plt\n",
    "\n",
    "labels = data_loader.train_label[:data_loader.num_train_data]\n",
    "\n",
    "f = plt.figure(figsize=(16,9))\n",
    "c = ['#ff0000', '#ffff00', '#00ff00', '#00ffff', '#0000ff', \n",
    "     '#ff00ff', '#990000']\n",
    "for i in range(7):\n",
    "    plt.plot(feat[labels==i,0].flatten(), feat[labels==i,1].flatten(), '.', c=c[i])\n",
    "plt.legend(['0', '1', '2', '3', '4', '5', '6'])\n",
    "plt.grid()\n",
    "plt.show()"
   ]
  },
  {
   "cell_type": "markdown",
   "metadata": {},
   "source": [
    "### Visualize test_data"
   ]
  },
  {
   "cell_type": "code",
   "execution_count": 16,
   "metadata": {
    "ExecuteTime": {
     "end_time": "2017-04-23T12:59:51.172781",
     "start_time": "2017-04-23T12:59:50.505331"
    }
   },
   "outputs": [
    {
     "data": {
      "image/png": "[encoded data removed]",
      "text/plain": [
       "<Figure size 1152x648 with 1 Axes>"
      ]
     },
     "metadata": {
      "needs_background": "light"
     },
     "output_type": "display_data"
    }
   ],
   "source": [
    "feat = sess.run(features, feed_dict={input_images:data_loader.test_data[:data_loader.num_test_data]-mean_data})\n",
    "\n",
    "%matplotlib inline\n",
    "import matplotlib.pyplot as plt\n",
    "\n",
    "labels = data_loader.test_label[:data_loader.num_test_data]\n",
    "\n",
    "f = plt.figure(figsize=(16,9))\n",
    "c = ['#ff0000', '#ffff00', '#00ff00', '#00ffff', '#0000ff', \n",
    "     '#ff00ff', '#990000']\n",
    "for i in range(7):\n",
    "    plt.plot(feat[labels==i,0].flatten(), feat[labels==i,1].flatten(), '.', c=c[i])\n",
    "plt.legend(['0', '1', '2', '3', '4', '5', '6'])\n",
    "plt.grid()\n",
    "plt.show()"
   ]
  },
  {
   "cell_type": "code",
   "execution_count": 17,
   "metadata": {
    "ExecuteTime": {
     "end_time": "2017-04-23T12:59:51.177977",
     "start_time": "2017-04-23T12:59:51.174860"
    }
   },
   "outputs": [],
   "source": [
    "sess.close()"
   ]
  }
 ],
 "metadata": {
  "anaconda-cloud": {},
  "kernelspec": {
   "display_name": "Python 3",
   "language": "python",
   "name": "python3"
  },
  "language_info": {
   "codemirror_mode": {
    "name": "ipython",
    "version": 3
   },
   "file_extension": ".py",
   "mimetype": "text/x-python",
   "name": "python",
   "nbconvert_exporter": "python",
   "pygments_lexer": "ipython3",
   "version": "3.7.9"
  }
 },
 "nbformat": 4,
 "nbformat_minor": 1
}
